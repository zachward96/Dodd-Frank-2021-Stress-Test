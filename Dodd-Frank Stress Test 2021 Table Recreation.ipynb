{
 "cells": [
  {
   "cell_type": "markdown",
   "id": "19eeb7da",
   "metadata": {},
   "source": [
    "# Goal\n",
    "\n",
    "The goal of this assignment is to recreate a table found in the Dodd-Frank Act Stress Test 2021 published by the Federal Reserve.\n",
    "\n",
    "This table shows hypothetical credit card accounts with variables including Credit Card Type (divided into General Purpose and Private Label), Credit Card Limit (>= 1,500, 1,501 - 7,500, > 7,500) and Product Type (Co-brand and Other).\n",
    "\n",
    "The table then seperates columns by Lower-risk, Typical and Higher-risk. \n",
    "\n",
    "I will recreate this in a dataframe so that the information is able to be indexed and easily selected for future applications."
   ]
  },
  {
   "cell_type": "code",
   "execution_count": 1,
   "id": "3c7ba2a7",
   "metadata": {},
   "outputs": [],
   "source": [
    "import pandas as pd\n",
    "import numpy as np"
   ]
  },
  {
   "cell_type": "code",
   "execution_count": 2,
   "id": "4214bfd1",
   "metadata": {},
   "outputs": [],
   "source": [
    "higher_risk = pd.read_csv('cards-high-risk-2021.csv')\n",
    "lower_risk = pd.read_csv('cards-low-risk-2021.csv')\n",
    "typical = pd.read_csv('cards-typical-risk-2021.csv')"
   ]
  },
  {
   "cell_type": "markdown",
   "id": "bd2af597",
   "metadata": {},
   "source": [
    "# Quick Descriptives"
   ]
  },
  {
   "cell_type": "code",
   "execution_count": 3,
   "id": "a05364d1",
   "metadata": {},
   "outputs": [
    {
     "data": {
      "text/html": [
       "<div>\n",
       "<style scoped>\n",
       "    .dataframe tbody tr th:only-of-type {\n",
       "        vertical-align: middle;\n",
       "    }\n",
       "\n",
       "    .dataframe tbody tr th {\n",
       "        vertical-align: top;\n",
       "    }\n",
       "\n",
       "    .dataframe thead th {\n",
       "        text-align: right;\n",
       "    }\n",
       "</style>\n",
       "<table border=\"1\" class=\"dataframe\">\n",
       "  <thead>\n",
       "    <tr style=\"text-align: right;\">\n",
       "      <th></th>\n",
       "      <th>loan_id</th>\n",
       "      <th>accountoriginationyear</th>\n",
       "      <th>activeflag</th>\n",
       "      <th>borrowerincome</th>\n",
       "      <th>creditcardtype</th>\n",
       "      <th>currentcreditlimit</th>\n",
       "      <th>cycleendingbalance</th>\n",
       "      <th>cycleendingretailapr</th>\n",
       "      <th>dayspastdue</th>\n",
       "      <th>monthendclosedrevokedflag</th>\n",
       "      <th>originalcreditlimit</th>\n",
       "      <th>producttype</th>\n",
       "      <th>refreshedcreditscoreprimaryborrower</th>\n",
       "    </tr>\n",
       "  </thead>\n",
       "  <tbody>\n",
       "    <tr>\n",
       "      <th>0</th>\n",
       "      <td>1</td>\n",
       "      <td>2003</td>\n",
       "      <td>0</td>\n",
       "      <td>0</td>\n",
       "      <td>1</td>\n",
       "      <td>6010</td>\n",
       "      <td>2160</td>\n",
       "      <td>12.11</td>\n",
       "      <td>0</td>\n",
       "      <td>0</td>\n",
       "      <td>1070</td>\n",
       "      <td>2</td>\n",
       "      <td>661</td>\n",
       "    </tr>\n",
       "    <tr>\n",
       "      <th>1</th>\n",
       "      <td>2</td>\n",
       "      <td>2004</td>\n",
       "      <td>0</td>\n",
       "      <td>18140</td>\n",
       "      <td>1</td>\n",
       "      <td>530</td>\n",
       "      <td>390</td>\n",
       "      <td>19.16</td>\n",
       "      <td>0</td>\n",
       "      <td>0</td>\n",
       "      <td>870</td>\n",
       "      <td>2</td>\n",
       "      <td>697</td>\n",
       "    </tr>\n",
       "    <tr>\n",
       "      <th>2</th>\n",
       "      <td>3</td>\n",
       "      <td>2005</td>\n",
       "      <td>0</td>\n",
       "      <td>0</td>\n",
       "      <td>1</td>\n",
       "      <td>4630</td>\n",
       "      <td>2850</td>\n",
       "      <td>26.44</td>\n",
       "      <td>0</td>\n",
       "      <td>0</td>\n",
       "      <td>260</td>\n",
       "      <td>2</td>\n",
       "      <td>633</td>\n",
       "    </tr>\n",
       "    <tr>\n",
       "      <th>3</th>\n",
       "      <td>4</td>\n",
       "      <td>2006</td>\n",
       "      <td>0</td>\n",
       "      <td>98460</td>\n",
       "      <td>1</td>\n",
       "      <td>1490</td>\n",
       "      <td>3490</td>\n",
       "      <td>15.75</td>\n",
       "      <td>0</td>\n",
       "      <td>0</td>\n",
       "      <td>290</td>\n",
       "      <td>2</td>\n",
       "      <td>574</td>\n",
       "    </tr>\n",
       "    <tr>\n",
       "      <th>4</th>\n",
       "      <td>5</td>\n",
       "      <td>2006</td>\n",
       "      <td>0</td>\n",
       "      <td>0</td>\n",
       "      <td>1</td>\n",
       "      <td>780</td>\n",
       "      <td>990</td>\n",
       "      <td>18.37</td>\n",
       "      <td>8</td>\n",
       "      <td>0</td>\n",
       "      <td>570</td>\n",
       "      <td>2</td>\n",
       "      <td>693</td>\n",
       "    </tr>\n",
       "  </tbody>\n",
       "</table>\n",
       "</div>"
      ],
      "text/plain": [
       "   loan_id  accountoriginationyear  activeflag  borrowerincome  \\\n",
       "0        1                    2003           0               0   \n",
       "1        2                    2004           0           18140   \n",
       "2        3                    2005           0               0   \n",
       "3        4                    2006           0           98460   \n",
       "4        5                    2006           0               0   \n",
       "\n",
       "   creditcardtype  currentcreditlimit  cycleendingbalance  \\\n",
       "0               1                6010                2160   \n",
       "1               1                 530                 390   \n",
       "2               1                4630                2850   \n",
       "3               1                1490                3490   \n",
       "4               1                 780                 990   \n",
       "\n",
       "   cycleendingretailapr  dayspastdue  monthendclosedrevokedflag  \\\n",
       "0                 12.11            0                          0   \n",
       "1                 19.16            0                          0   \n",
       "2                 26.44            0                          0   \n",
       "3                 15.75            0                          0   \n",
       "4                 18.37            8                          0   \n",
       "\n",
       "   originalcreditlimit  producttype  refreshedcreditscoreprimaryborrower  \n",
       "0                 1070            2                                  661  \n",
       "1                  870            2                                  697  \n",
       "2                  260            2                                  633  \n",
       "3                  290            2                                  574  \n",
       "4                  570            2                                  693  "
      ]
     },
     "execution_count": 3,
     "metadata": {},
     "output_type": "execute_result"
    }
   ],
   "source": [
    "higher_risk.head()"
   ]
  },
  {
   "cell_type": "code",
   "execution_count": 4,
   "id": "8ab01a21",
   "metadata": {},
   "outputs": [
    {
     "name": "stdout",
     "output_type": "stream",
     "text": [
      "<class 'pandas.core.frame.DataFrame'>\n",
      "RangeIndex: 200 entries, 0 to 199\n",
      "Data columns (total 13 columns):\n",
      " #   Column                               Non-Null Count  Dtype  \n",
      "---  ------                               --------------  -----  \n",
      " 0   loan_id                              200 non-null    int64  \n",
      " 1   accountoriginationyear               200 non-null    int64  \n",
      " 2   activeflag                           200 non-null    int64  \n",
      " 3   borrowerincome                       200 non-null    int64  \n",
      " 4   creditcardtype                       200 non-null    int64  \n",
      " 5   currentcreditlimit                   200 non-null    int64  \n",
      " 6   cycleendingbalance                   200 non-null    int64  \n",
      " 7   cycleendingretailapr                 200 non-null    float64\n",
      " 8   dayspastdue                          200 non-null    int64  \n",
      " 9   monthendclosedrevokedflag            200 non-null    int64  \n",
      " 10  originalcreditlimit                  200 non-null    int64  \n",
      " 11  producttype                          200 non-null    int64  \n",
      " 12  refreshedcreditscoreprimaryborrower  200 non-null    int64  \n",
      "dtypes: float64(1), int64(12)\n",
      "memory usage: 20.4 KB\n"
     ]
    }
   ],
   "source": [
    "higher_risk.info()"
   ]
  },
  {
   "cell_type": "markdown",
   "id": "c489066d",
   "metadata": {},
   "source": [
    "### Analysis\n",
    "\n",
    "- We have 12 different columns, none of which have null values and all of which are int64 data type except for \"cycleendingratailapr\" which is a float\n",
    "\n",
    "- For our first variable, credit card type, there is a column \"creditcardtype\" that is directly applicable. This is column index 4\n",
    "\n",
    "- For our second variable, Credit Card Limit, \"currentcreditlimit\" can be used. This is column index 5.\n",
    "\n",
    "- Finally, for product type, there is also a directly applicable column labeled \"producttype\" at column index 11."
   ]
  },
  {
   "cell_type": "code",
   "execution_count": 5,
   "id": "3dd96f6e",
   "metadata": {},
   "outputs": [
    {
     "data": {
      "text/plain": [
       "1    166\n",
       "2     34\n",
       "Name: creditcardtype, dtype: int64"
      ]
     },
     "execution_count": 5,
     "metadata": {},
     "output_type": "execute_result"
    }
   ],
   "source": [
    "higher_risk['creditcardtype'].value_counts()"
   ]
  },
  {
   "cell_type": "markdown",
   "id": "94982766",
   "metadata": {},
   "source": [
    "- Credit card type is a binary value of 1 or 2. Based on the example table that we are recreating, it can be interpreted that 1 = General Purpose and 2 = Private Label"
   ]
  },
  {
   "cell_type": "code",
   "execution_count": 6,
   "id": "007340f4",
   "metadata": {},
   "outputs": [
    {
     "data": {
      "text/plain": [
       "1420    3\n",
       "930     2\n",
       "220     2\n",
       "2670    2\n",
       "4040    2\n",
       "       ..\n",
       "3340    1\n",
       "8580    1\n",
       "1920    1\n",
       "5180    1\n",
       "8220    1\n",
       "Name: currentcreditlimit, Length: 177, dtype: int64"
      ]
     },
     "execution_count": 6,
     "metadata": {},
     "output_type": "execute_result"
    }
   ],
   "source": [
    "higher_risk['currentcreditlimit'].value_counts()"
   ]
  },
  {
   "cell_type": "markdown",
   "id": "eb82d289",
   "metadata": {},
   "source": [
    "- This is a semi-continuous variable"
   ]
  },
  {
   "cell_type": "code",
   "execution_count": 7,
   "id": "7b3b750c",
   "metadata": {},
   "outputs": [
    {
     "data": {
      "text/plain": [
       "2    179\n",
       "1     21\n",
       "Name: producttype, dtype: int64"
      ]
     },
     "execution_count": 7,
     "metadata": {},
     "output_type": "execute_result"
    }
   ],
   "source": [
    "higher_risk['producttype'].value_counts()"
   ]
  },
  {
   "cell_type": "markdown",
   "id": "1dd49592",
   "metadata": {},
   "source": [
    "- This is, again, a binary variable with 1 = Co-brand and 2 = Other"
   ]
  },
  {
   "cell_type": "markdown",
   "id": "d71e3d0a",
   "metadata": {},
   "source": [
    "# Part 1: Credit Card Types"
   ]
  },
  {
   "cell_type": "code",
   "execution_count": 8,
   "id": "f46927db",
   "metadata": {},
   "outputs": [],
   "source": [
    "#This section will give us the percentage of cards\n",
    "#that are general purpose or private label for the lower risk category\n",
    "lr_gen_purp = ((lower_risk[lower_risk['creditcardtype'] == 1].sum()) / len(lower_risk['creditcardtype'])) * 100\n",
    "lr_private = ((lower_risk[lower_risk['creditcardtype'] == 2].count()) / len(lower_risk['creditcardtype'])) * 100\n",
    "\n",
    "lr_gen_purp = lr_gen_purp['creditcardtype']\n",
    "lr_private = lr_private['creditcardtype']\n",
    "\n",
    "#Instantiating the dataframe for credit card type\n",
    "index = [['Credit Card Type', 'Credit Card Type'],['General Purpose', 'Private Label']]\n",
    "cols = ['Lower-risk']\n",
    "\n",
    "cctype_table = pd.DataFrame(data = (lr_gen_purp, lr_private), index = index,\n",
    "                          columns = cols)"
   ]
  },
  {
   "cell_type": "code",
   "execution_count": 9,
   "id": "889635e0",
   "metadata": {},
   "outputs": [],
   "source": [
    "#Finding percentages for general purpose and private label for typical rick profile\n",
    "typ_gen_purp = ((typical[typical['creditcardtype'] == 1].sum()) / len(typical['creditcardtype'])) * 100\n",
    "typ_private = ((typical[typical['creditcardtype'] == 2].count()) / len(typical['creditcardtype'])) * 100\n",
    "\n",
    "typ_gen_purp = typ_gen_purp['creditcardtype']\n",
    "typ_private = typ_private['creditcardtype']\n",
    "\n",
    "#adding these to the previous dataframe\n",
    "cctype_table['Typical'] = [typ_gen_purp, typ_private]"
   ]
  },
  {
   "cell_type": "code",
   "execution_count": 10,
   "id": "e784dd3e",
   "metadata": {},
   "outputs": [
    {
     "data": {
      "text/html": [
       "<div>\n",
       "<style scoped>\n",
       "    .dataframe tbody tr th:only-of-type {\n",
       "        vertical-align: middle;\n",
       "    }\n",
       "\n",
       "    .dataframe tbody tr th {\n",
       "        vertical-align: top;\n",
       "    }\n",
       "\n",
       "    .dataframe thead th {\n",
       "        text-align: right;\n",
       "    }\n",
       "</style>\n",
       "<table border=\"1\" class=\"dataframe\">\n",
       "  <thead>\n",
       "    <tr style=\"text-align: right;\">\n",
       "      <th></th>\n",
       "      <th></th>\n",
       "      <th>Lower-risk</th>\n",
       "      <th>Typical</th>\n",
       "      <th>Higher-risk</th>\n",
       "    </tr>\n",
       "  </thead>\n",
       "  <tbody>\n",
       "    <tr>\n",
       "      <th rowspan=\"2\" valign=\"top\">Credit Card Type</th>\n",
       "      <th>General Purpose</th>\n",
       "      <td>88.0</td>\n",
       "      <td>88.5</td>\n",
       "      <td>83.0</td>\n",
       "    </tr>\n",
       "    <tr>\n",
       "      <th>Private Label</th>\n",
       "      <td>12.0</td>\n",
       "      <td>11.5</td>\n",
       "      <td>17.0</td>\n",
       "    </tr>\n",
       "  </tbody>\n",
       "</table>\n",
       "</div>"
      ],
      "text/plain": [
       "                                  Lower-risk  Typical  Higher-risk\n",
       "Credit Card Type General Purpose        88.0     88.5         83.0\n",
       "                 Private Label          12.0     11.5         17.0"
      ]
     },
     "execution_count": 10,
     "metadata": {},
     "output_type": "execute_result"
    }
   ],
   "source": [
    "#Finding percentages for gen. purpose and private label for high risk profile\n",
    "hr_gen_purp = ((higher_risk[higher_risk['creditcardtype'] == 1].sum()) / len(higher_risk['creditcardtype'])) * 100\n",
    "hr_private = ((higher_risk[higher_risk['creditcardtype'] == 2].count()) / len(higher_risk['creditcardtype'])) * 100\n",
    "\n",
    "hr_gen_purp = hr_gen_purp['creditcardtype']\n",
    "hr_private = hr_private['creditcardtype']\n",
    "\n",
    "#Adding to the dataframe\n",
    "cctype_table['Higher-risk'] = [hr_gen_purp, hr_private]\n",
    "\n",
    "#Visualizing dataframe as it now holds all relevant information on credit card types\n",
    "cctype_table"
   ]
  },
  {
   "cell_type": "markdown",
   "id": "5bc45e2d",
   "metadata": {},
   "source": [
    "# Part 2: Credit Limit"
   ]
  },
  {
   "cell_type": "code",
   "execution_count": 11,
   "id": "1f567712",
   "metadata": {},
   "outputs": [],
   "source": [
    "#creating percentages for credit limits on lower risk\n",
    "lr_bottom = ((lower_risk[lower_risk['currentcreditlimit'] <= 1500].count()) / \n",
    "             len(lower_risk['currentcreditlimit']))*100\n",
    "lr_mid = ((lower_risk[lower_risk['currentcreditlimit'].between(1500, 7501)].count())/ \n",
    "          len(lower_risk['currentcreditlimit']))*100\n",
    "lr_top = ((lower_risk[lower_risk['currentcreditlimit'] > 7500].count())/len(lower_risk['currentcreditlimit']))*100\n",
    "\n",
    "#selecting desired columns\n",
    "lr_bottom = lr_bottom['currentcreditlimit']\n",
    "lr_mid = lr_mid['currentcreditlimit']\n",
    "lr_top = lr_top['currentcreditlimit']\n",
    "\n",
    "#instantiating dataframe for credit limits\n",
    "index_2 = [['Current Credit Limit', 'Current Credit Limit', 'Current Credit Limit'],\n",
    "          ['$1,500 and less', '$1,501-7,500', 'Over $7,500']]\n",
    "cols_2 = ['Lower-risk']\n",
    "\n",
    "limit_table = pd.DataFrame(data = (lr_bottom, lr_mid, lr_top), index = index_2, columns = cols_2)"
   ]
  },
  {
   "cell_type": "code",
   "execution_count": 12,
   "id": "d1a23fd9",
   "metadata": {},
   "outputs": [],
   "source": [
    "#creating percentages for credit limits for typical risk\n",
    "typ_bottom = ((typical[typical['currentcreditlimit'] <= 1500].count()) /\n",
    "             len(typical['currentcreditlimit']))*100\n",
    "typ_mid = ((typical[typical['currentcreditlimit'].between(1500,7501)].count())/\n",
    "          len(typical['currentcreditlimit']))*100\n",
    "typ_top = ((typical[typical['currentcreditlimit'] > 7500].count())/len(typical['currentcreditlimit']))*100\n",
    "\n",
    "#selecting columns\n",
    "typ_bottom = typ_bottom['currentcreditlimit']\n",
    "typ_mid = typ_mid['currentcreditlimit']\n",
    "typ_top = typ_top['currentcreditlimit']\n",
    "\n",
    "#adding to credit limit dataframe\n",
    "limit_table['Typical'] = [typ_bottom, typ_mid, typ_top]"
   ]
  },
  {
   "cell_type": "code",
   "execution_count": 13,
   "id": "9a339e7c",
   "metadata": {},
   "outputs": [
    {
     "data": {
      "text/html": [
       "<div>\n",
       "<style scoped>\n",
       "    .dataframe tbody tr th:only-of-type {\n",
       "        vertical-align: middle;\n",
       "    }\n",
       "\n",
       "    .dataframe tbody tr th {\n",
       "        vertical-align: top;\n",
       "    }\n",
       "\n",
       "    .dataframe thead th {\n",
       "        text-align: right;\n",
       "    }\n",
       "</style>\n",
       "<table border=\"1\" class=\"dataframe\">\n",
       "  <thead>\n",
       "    <tr style=\"text-align: right;\">\n",
       "      <th></th>\n",
       "      <th></th>\n",
       "      <th>Lower-risk</th>\n",
       "      <th>Typical</th>\n",
       "      <th>Higher-risk</th>\n",
       "    </tr>\n",
       "  </thead>\n",
       "  <tbody>\n",
       "    <tr>\n",
       "      <th rowspan=\"3\" valign=\"top\">Current Credit Limit</th>\n",
       "      <th>$1,500 and less</th>\n",
       "      <td>8.0</td>\n",
       "      <td>16.5</td>\n",
       "      <td>30.0</td>\n",
       "    </tr>\n",
       "    <tr>\n",
       "      <th>$1,501-7,500</th>\n",
       "      <td>37.5</td>\n",
       "      <td>52.5</td>\n",
       "      <td>60.5</td>\n",
       "    </tr>\n",
       "    <tr>\n",
       "      <th>Over $7,500</th>\n",
       "      <td>54.5</td>\n",
       "      <td>31.0</td>\n",
       "      <td>9.5</td>\n",
       "    </tr>\n",
       "  </tbody>\n",
       "</table>\n",
       "</div>"
      ],
      "text/plain": [
       "                                      Lower-risk  Typical  Higher-risk\n",
       "Current Credit Limit $1,500 and less         8.0     16.5         30.0\n",
       "                     $1,501-7,500           37.5     52.5         60.5\n",
       "                     Over $7,500            54.5     31.0          9.5"
      ]
     },
     "execution_count": 13,
     "metadata": {},
     "output_type": "execute_result"
    }
   ],
   "source": [
    "#finding percentages for credit limits for higher risk\n",
    "hr_bottom = ((higher_risk[higher_risk['currentcreditlimit'] <= 1500].count())/\n",
    "            len(higher_risk['currentcreditlimit']))*100\n",
    "hr_mid = ((higher_risk[higher_risk['currentcreditlimit'].between(1500,7501)].count())/\n",
    "         len(higher_risk['currentcreditlimit']))*100\n",
    "hr_top = ((higher_risk[higher_risk['currentcreditlimit'] > 7500].count())/\n",
    "         len(higher_risk['currentcreditlimit']))*100\n",
    "\n",
    "#selecting columns\n",
    "hr_bottom = hr_bottom['currentcreditlimit']\n",
    "hr_mid = hr_mid['currentcreditlimit']\n",
    "hr_top = hr_top['currentcreditlimit']\n",
    "\n",
    "#finalizing limit_table dataframe\n",
    "limit_table['Higher-risk'] = [hr_bottom, hr_mid, hr_top]\n",
    "limit_table"
   ]
  },
  {
   "cell_type": "code",
   "execution_count": 14,
   "id": "c360859d",
   "metadata": {},
   "outputs": [],
   "source": [
    "#appending to cctype_table thereby completing the second stage\n",
    "part_2_table = cctype_table.append(limit_table)"
   ]
  },
  {
   "cell_type": "markdown",
   "id": "76070cac",
   "metadata": {},
   "source": [
    "# Part 3: Product Type"
   ]
  },
  {
   "cell_type": "code",
   "execution_count": 15,
   "id": "4749ad6d",
   "metadata": {},
   "outputs": [],
   "source": [
    "#Creating percentages for lower risk product types\n",
    "lr_co = ((lower_risk[lower_risk['producttype'] == 1].count())/len(lower_risk['producttype']))*100\n",
    "lr_oth = ((lower_risk[lower_risk['producttype'] == 2].count())/len(lower_risk['producttype']))*100\n",
    "\n",
    "#selecting columns\n",
    "lr_co = lr_co['producttype']\n",
    "lr_oth = lr_oth['producttype']\n",
    "\n",
    "#instantiating pt_table dataframe\n",
    "index_3 = [['Product Type', 'Product Type'], ['Co-brand', 'Other']]\n",
    "cols_3 = ['Lower-risk']\n",
    "\n",
    "pt_table = pd.DataFrame(data = (lr_co, lr_oth), index = index_3, columns = cols_3)"
   ]
  },
  {
   "cell_type": "code",
   "execution_count": 16,
   "id": "74b36ef6",
   "metadata": {},
   "outputs": [],
   "source": [
    "#finding percentages for typical risk profile product types\n",
    "typ_co = ((typical[typical['producttype'] == 1].count())/len(typical['producttype']))*100\n",
    "typ_oth = ((typical[typical['producttype'] == 2].count())/len(typical['producttype']))*100\n",
    "\n",
    "#selecting columns\n",
    "typ_co = typ_co['producttype']\n",
    "typ_oth = typ_oth['producttype']\n",
    "\n",
    "#adding to dataframe\n",
    "pt_table['Typical'] = [typ_co, typ_oth]"
   ]
  },
  {
   "cell_type": "code",
   "execution_count": 17,
   "id": "832a6b18",
   "metadata": {},
   "outputs": [
    {
     "data": {
      "text/html": [
       "<div>\n",
       "<style scoped>\n",
       "    .dataframe tbody tr th:only-of-type {\n",
       "        vertical-align: middle;\n",
       "    }\n",
       "\n",
       "    .dataframe tbody tr th {\n",
       "        vertical-align: top;\n",
       "    }\n",
       "\n",
       "    .dataframe thead th {\n",
       "        text-align: right;\n",
       "    }\n",
       "</style>\n",
       "<table border=\"1\" class=\"dataframe\">\n",
       "  <thead>\n",
       "    <tr style=\"text-align: right;\">\n",
       "      <th></th>\n",
       "      <th></th>\n",
       "      <th>Lower-risk</th>\n",
       "      <th>Typical</th>\n",
       "      <th>Higher-risk</th>\n",
       "    </tr>\n",
       "  </thead>\n",
       "  <tbody>\n",
       "    <tr>\n",
       "      <th rowspan=\"2\" valign=\"top\">Product Type</th>\n",
       "      <th>Co-brand</th>\n",
       "      <td>16.5</td>\n",
       "      <td>15.0</td>\n",
       "      <td>10.5</td>\n",
       "    </tr>\n",
       "    <tr>\n",
       "      <th>Other</th>\n",
       "      <td>83.5</td>\n",
       "      <td>85.0</td>\n",
       "      <td>89.5</td>\n",
       "    </tr>\n",
       "  </tbody>\n",
       "</table>\n",
       "</div>"
      ],
      "text/plain": [
       "                       Lower-risk  Typical  Higher-risk\n",
       "Product Type Co-brand        16.5     15.0         10.5\n",
       "             Other           83.5     85.0         89.5"
      ]
     },
     "execution_count": 17,
     "metadata": {},
     "output_type": "execute_result"
    }
   ],
   "source": [
    "#finding percentages for higher-risk profile product types\n",
    "hr_co = ((higher_risk[higher_risk['producttype'] == 1].count())/len(higher_risk['producttype']))*100\n",
    "hr_oth = ((higher_risk[higher_risk['producttype'] == 2].count())/len(higher_risk['producttype']))*100\n",
    "\n",
    "#selecting columns\n",
    "hr_co = hr_co['producttype']\n",
    "hr_oth = hr_oth['producttype']\n",
    "\n",
    "#finalizing pt_table dataframe\n",
    "pt_table['Higher-risk'] = [hr_co, hr_oth]\n",
    "pt_table"
   ]
  },
  {
   "cell_type": "markdown",
   "id": "4fdf98ba",
   "metadata": {},
   "source": [
    "# Final Table"
   ]
  },
  {
   "cell_type": "code",
   "execution_count": 18,
   "id": "1d393538",
   "metadata": {},
   "outputs": [],
   "source": [
    "#appending to part_2_table in order to create our final table\n",
    "final_table = part_2_table.append(pt_table)"
   ]
  },
  {
   "cell_type": "code",
   "execution_count": 19,
   "id": "363aa940",
   "metadata": {},
   "outputs": [],
   "source": [
    "#setting style to include desired title and only one decimal point per float\n",
    "table1 = final_table.style.set_caption('Table 1: Summary Statistics of Selected Variables in the' \\\n",
    "                                           ' Portfolios of Hypothetical Credit Card Accounts').format(precision=1)"
   ]
  },
  {
   "cell_type": "code",
   "execution_count": 20,
   "id": "ed9b94ed",
   "metadata": {},
   "outputs": [
    {
     "data": {
      "text/html": [
       "<style type=\"text/css\">\n",
       "</style>\n",
       "<table id=\"T_639b5_\">\n",
       "  <caption>Table 1: Summary Statistics of Selected Variables in the Portfolios of Hypothetical Credit Card Accounts</caption>\n",
       "  <thead>\n",
       "    <tr>\n",
       "      <th class=\"blank\" >&nbsp;</th>\n",
       "      <th class=\"blank level0\" >&nbsp;</th>\n",
       "      <th class=\"col_heading level0 col0\" >Lower-risk</th>\n",
       "      <th class=\"col_heading level0 col1\" >Typical</th>\n",
       "      <th class=\"col_heading level0 col2\" >Higher-risk</th>\n",
       "    </tr>\n",
       "  </thead>\n",
       "  <tbody>\n",
       "    <tr>\n",
       "      <th id=\"T_639b5_level0_row0\" class=\"row_heading level0 row0\" rowspan=\"2\">Credit Card Type</th>\n",
       "      <th id=\"T_639b5_level1_row0\" class=\"row_heading level1 row0\" >General Purpose</th>\n",
       "      <td id=\"T_639b5_row0_col0\" class=\"data row0 col0\" >88.0</td>\n",
       "      <td id=\"T_639b5_row0_col1\" class=\"data row0 col1\" >88.5</td>\n",
       "      <td id=\"T_639b5_row0_col2\" class=\"data row0 col2\" >83.0</td>\n",
       "    </tr>\n",
       "    <tr>\n",
       "      <th id=\"T_639b5_level1_row1\" class=\"row_heading level1 row1\" >Private Label</th>\n",
       "      <td id=\"T_639b5_row1_col0\" class=\"data row1 col0\" >12.0</td>\n",
       "      <td id=\"T_639b5_row1_col1\" class=\"data row1 col1\" >11.5</td>\n",
       "      <td id=\"T_639b5_row1_col2\" class=\"data row1 col2\" >17.0</td>\n",
       "    </tr>\n",
       "    <tr>\n",
       "      <th id=\"T_639b5_level0_row2\" class=\"row_heading level0 row2\" rowspan=\"3\">Current Credit Limit</th>\n",
       "      <th id=\"T_639b5_level1_row2\" class=\"row_heading level1 row2\" >$1,500 and less</th>\n",
       "      <td id=\"T_639b5_row2_col0\" class=\"data row2 col0\" >8.0</td>\n",
       "      <td id=\"T_639b5_row2_col1\" class=\"data row2 col1\" >16.5</td>\n",
       "      <td id=\"T_639b5_row2_col2\" class=\"data row2 col2\" >30.0</td>\n",
       "    </tr>\n",
       "    <tr>\n",
       "      <th id=\"T_639b5_level1_row3\" class=\"row_heading level1 row3\" >$1,501-7,500</th>\n",
       "      <td id=\"T_639b5_row3_col0\" class=\"data row3 col0\" >37.5</td>\n",
       "      <td id=\"T_639b5_row3_col1\" class=\"data row3 col1\" >52.5</td>\n",
       "      <td id=\"T_639b5_row3_col2\" class=\"data row3 col2\" >60.5</td>\n",
       "    </tr>\n",
       "    <tr>\n",
       "      <th id=\"T_639b5_level1_row4\" class=\"row_heading level1 row4\" >Over $7,500</th>\n",
       "      <td id=\"T_639b5_row4_col0\" class=\"data row4 col0\" >54.5</td>\n",
       "      <td id=\"T_639b5_row4_col1\" class=\"data row4 col1\" >31.0</td>\n",
       "      <td id=\"T_639b5_row4_col2\" class=\"data row4 col2\" >9.5</td>\n",
       "    </tr>\n",
       "    <tr>\n",
       "      <th id=\"T_639b5_level0_row5\" class=\"row_heading level0 row5\" rowspan=\"2\">Product Type</th>\n",
       "      <th id=\"T_639b5_level1_row5\" class=\"row_heading level1 row5\" >Co-brand</th>\n",
       "      <td id=\"T_639b5_row5_col0\" class=\"data row5 col0\" >16.5</td>\n",
       "      <td id=\"T_639b5_row5_col1\" class=\"data row5 col1\" >15.0</td>\n",
       "      <td id=\"T_639b5_row5_col2\" class=\"data row5 col2\" >10.5</td>\n",
       "    </tr>\n",
       "    <tr>\n",
       "      <th id=\"T_639b5_level1_row6\" class=\"row_heading level1 row6\" >Other</th>\n",
       "      <td id=\"T_639b5_row6_col0\" class=\"data row6 col0\" >83.5</td>\n",
       "      <td id=\"T_639b5_row6_col1\" class=\"data row6 col1\" >85.0</td>\n",
       "      <td id=\"T_639b5_row6_col2\" class=\"data row6 col2\" >89.5</td>\n",
       "    </tr>\n",
       "  </tbody>\n",
       "</table>\n"
      ],
      "text/plain": [
       "<pandas.io.formats.style.Styler at 0x7fddab918f70>"
      ]
     },
     "execution_count": 20,
     "metadata": {},
     "output_type": "execute_result"
    }
   ],
   "source": [
    "#visualizing final table\n",
    "table1"
   ]
  }
 ],
 "metadata": {
  "kernelspec": {
   "display_name": "Python 3 (ipykernel)",
   "language": "python",
   "name": "python3"
  },
  "language_info": {
   "codemirror_mode": {
    "name": "ipython",
    "version": 3
   },
   "file_extension": ".py",
   "mimetype": "text/x-python",
   "name": "python",
   "nbconvert_exporter": "python",
   "pygments_lexer": "ipython3",
   "version": "3.9.7"
  }
 },
 "nbformat": 4,
 "nbformat_minor": 5
}
